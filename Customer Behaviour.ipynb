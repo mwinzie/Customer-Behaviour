{
 "cells": [
  {
   "cell_type": "code",
   "execution_count": 1,
   "metadata": {},
   "outputs": [
    {
     "data": {
      "text/html": [
       "<table>\n",
       "<thead><tr><th scope=col>Administrative</th><th scope=col>Administrative_Duration</th><th scope=col>Informational</th><th scope=col>Informational_Duration</th><th scope=col>ProductRelated</th><th scope=col>ProductRelated_Duration</th><th scope=col>BounceRates</th><th scope=col>ExitRates</th><th scope=col>PageValues</th><th scope=col>SpecialDay</th><th scope=col>Month</th><th scope=col>OperatingSystems</th><th scope=col>Browser</th><th scope=col>Region</th><th scope=col>TrafficType</th><th scope=col>VisitorType</th><th scope=col>Weekend</th><th scope=col>Revenue</th></tr></thead>\n",
       "<tbody>\n",
       "\t<tr><td>0                </td><td> 0               </td><td>0                </td><td> 0               </td><td> 1               </td><td>  0.000000       </td><td>0.20000000       </td><td>0.2000000        </td><td>0                </td><td>0                </td><td>Feb              </td><td>1                </td><td>1                </td><td>1                </td><td>1                </td><td>Returning_Visitor</td><td>FALSE            </td><td>FALSE            </td></tr>\n",
       "\t<tr><td>0                </td><td> 0               </td><td>0                </td><td> 0               </td><td> 2               </td><td> 64.000000       </td><td>0.00000000       </td><td>0.1000000        </td><td>0                </td><td>0                </td><td>Feb              </td><td>2                </td><td>2                </td><td>1                </td><td>2                </td><td>Returning_Visitor</td><td>FALSE            </td><td>FALSE            </td></tr>\n",
       "\t<tr><td>0                </td><td>-1               </td><td>0                </td><td>-1               </td><td> 1               </td><td> -1.000000       </td><td>0.20000000       </td><td>0.2000000        </td><td>0                </td><td>0                </td><td>Feb              </td><td>4                </td><td>1                </td><td>9                </td><td>3                </td><td>Returning_Visitor</td><td>FALSE            </td><td>FALSE            </td></tr>\n",
       "\t<tr><td>0                </td><td> 0               </td><td>0                </td><td> 0               </td><td> 2               </td><td>  2.666667       </td><td>0.05000000       </td><td>0.1400000        </td><td>0                </td><td>0                </td><td>Feb              </td><td>3                </td><td>2                </td><td>2                </td><td>4                </td><td>Returning_Visitor</td><td>FALSE            </td><td>FALSE            </td></tr>\n",
       "\t<tr><td>0                </td><td> 0               </td><td>0                </td><td> 0               </td><td>10               </td><td>627.500000       </td><td>0.02000000       </td><td>0.0500000        </td><td>0                </td><td>0                </td><td>Feb              </td><td>3                </td><td>3                </td><td>1                </td><td>4                </td><td>Returning_Visitor</td><td> TRUE            </td><td>FALSE            </td></tr>\n",
       "\t<tr><td>0                </td><td> 0               </td><td>0                </td><td> 0               </td><td>19               </td><td>154.216667       </td><td>0.01578947       </td><td>0.0245614        </td><td>0                </td><td>0                </td><td>Feb              </td><td>2                </td><td>2                </td><td>1                </td><td>3                </td><td>Returning_Visitor</td><td>FALSE            </td><td>FALSE            </td></tr>\n",
       "</tbody>\n",
       "</table>\n"
      ],
      "text/latex": [
       "\\begin{tabular}{r|llllllllllllllllll}\n",
       " Administrative & Administrative\\_Duration & Informational & Informational\\_Duration & ProductRelated & ProductRelated\\_Duration & BounceRates & ExitRates & PageValues & SpecialDay & Month & OperatingSystems & Browser & Region & TrafficType & VisitorType & Weekend & Revenue\\\\\n",
       "\\hline\n",
       "\t 0                   &  0                  & 0                   &  0                  &  1                  &   0.000000          & 0.20000000          & 0.2000000           & 0                   & 0                   & Feb                 & 1                   & 1                   & 1                   & 1                   & Returning\\_Visitor & FALSE               & FALSE              \\\\\n",
       "\t 0                   &  0                  & 0                   &  0                  &  2                  &  64.000000          & 0.00000000          & 0.1000000           & 0                   & 0                   & Feb                 & 2                   & 2                   & 1                   & 2                   & Returning\\_Visitor & FALSE               & FALSE              \\\\\n",
       "\t 0                   & -1                  & 0                   & -1                  &  1                  &  -1.000000          & 0.20000000          & 0.2000000           & 0                   & 0                   & Feb                 & 4                   & 1                   & 9                   & 3                   & Returning\\_Visitor & FALSE               & FALSE              \\\\\n",
       "\t 0                   &  0                  & 0                   &  0                  &  2                  &   2.666667          & 0.05000000          & 0.1400000           & 0                   & 0                   & Feb                 & 3                   & 2                   & 2                   & 4                   & Returning\\_Visitor & FALSE               & FALSE              \\\\\n",
       "\t 0                   &  0                  & 0                   &  0                  & 10                  & 627.500000          & 0.02000000          & 0.0500000           & 0                   & 0                   & Feb                 & 3                   & 3                   & 1                   & 4                   & Returning\\_Visitor &  TRUE               & FALSE              \\\\\n",
       "\t 0                   &  0                  & 0                   &  0                  & 19                  & 154.216667          & 0.01578947          & 0.0245614           & 0                   & 0                   & Feb                 & 2                   & 2                   & 1                   & 3                   & Returning\\_Visitor & FALSE               & FALSE              \\\\\n",
       "\\end{tabular}\n"
      ],
      "text/markdown": [
       "\n",
       "| Administrative | Administrative_Duration | Informational | Informational_Duration | ProductRelated | ProductRelated_Duration | BounceRates | ExitRates | PageValues | SpecialDay | Month | OperatingSystems | Browser | Region | TrafficType | VisitorType | Weekend | Revenue |\n",
       "|---|---|---|---|---|---|---|---|---|---|---|---|---|---|---|---|---|---|\n",
       "| 0                 |  0                | 0                 |  0                |  1                |   0.000000        | 0.20000000        | 0.2000000         | 0                 | 0                 | Feb               | 1                 | 1                 | 1                 | 1                 | Returning_Visitor | FALSE             | FALSE             |\n",
       "| 0                 |  0                | 0                 |  0                |  2                |  64.000000        | 0.00000000        | 0.1000000         | 0                 | 0                 | Feb               | 2                 | 2                 | 1                 | 2                 | Returning_Visitor | FALSE             | FALSE             |\n",
       "| 0                 | -1                | 0                 | -1                |  1                |  -1.000000        | 0.20000000        | 0.2000000         | 0                 | 0                 | Feb               | 4                 | 1                 | 9                 | 3                 | Returning_Visitor | FALSE             | FALSE             |\n",
       "| 0                 |  0                | 0                 |  0                |  2                |   2.666667        | 0.05000000        | 0.1400000         | 0                 | 0                 | Feb               | 3                 | 2                 | 2                 | 4                 | Returning_Visitor | FALSE             | FALSE             |\n",
       "| 0                 |  0                | 0                 |  0                | 10                | 627.500000        | 0.02000000        | 0.0500000         | 0                 | 0                 | Feb               | 3                 | 3                 | 1                 | 4                 | Returning_Visitor |  TRUE             | FALSE             |\n",
       "| 0                 |  0                | 0                 |  0                | 19                | 154.216667        | 0.01578947        | 0.0245614         | 0                 | 0                 | Feb               | 2                 | 2                 | 1                 | 3                 | Returning_Visitor | FALSE             | FALSE             |\n",
       "\n"
      ],
      "text/plain": [
       "  Administrative Administrative_Duration Informational Informational_Duration\n",
       "1 0               0                      0              0                    \n",
       "2 0               0                      0              0                    \n",
       "3 0              -1                      0             -1                    \n",
       "4 0               0                      0              0                    \n",
       "5 0               0                      0              0                    \n",
       "6 0               0                      0              0                    \n",
       "  ProductRelated ProductRelated_Duration BounceRates ExitRates PageValues\n",
       "1  1               0.000000              0.20000000  0.2000000 0         \n",
       "2  2              64.000000              0.00000000  0.1000000 0         \n",
       "3  1              -1.000000              0.20000000  0.2000000 0         \n",
       "4  2               2.666667              0.05000000  0.1400000 0         \n",
       "5 10             627.500000              0.02000000  0.0500000 0         \n",
       "6 19             154.216667              0.01578947  0.0245614 0         \n",
       "  SpecialDay Month OperatingSystems Browser Region TrafficType\n",
       "1 0          Feb   1                1       1      1          \n",
       "2 0          Feb   2                2       1      2          \n",
       "3 0          Feb   4                1       9      3          \n",
       "4 0          Feb   3                2       2      4          \n",
       "5 0          Feb   3                3       1      4          \n",
       "6 0          Feb   2                2       1      3          \n",
       "  VisitorType       Weekend Revenue\n",
       "1 Returning_Visitor FALSE   FALSE  \n",
       "2 Returning_Visitor FALSE   FALSE  \n",
       "3 Returning_Visitor FALSE   FALSE  \n",
       "4 Returning_Visitor FALSE   FALSE  \n",
       "5 Returning_Visitor  TRUE   FALSE  \n",
       "6 Returning_Visitor FALSE   FALSE  "
      ]
     },
     "metadata": {},
     "output_type": "display_data"
    }
   ],
   "source": [
    "ons <- read.csv(\"online_shoppers_intention.csv\")\n",
    "\n",
    "head(ons)\n"
   ]
  },
  {
   "cell_type": "code",
   "execution_count": 2,
   "metadata": {},
   "outputs": [
    {
     "data": {
      "text/html": [
       "<ol class=list-inline>\n",
       "\t<li>12330</li>\n",
       "\t<li>18</li>\n",
       "</ol>\n"
      ],
      "text/latex": [
       "\\begin{enumerate*}\n",
       "\\item 12330\n",
       "\\item 18\n",
       "\\end{enumerate*}\n"
      ],
      "text/markdown": [
       "1. 12330\n",
       "2. 18\n",
       "\n",
       "\n"
      ],
      "text/plain": [
       "[1] 12330    18"
      ]
     },
     "metadata": {},
     "output_type": "display_data"
    }
   ],
   "source": [
    "dim(ons)"
   ]
  },
  {
   "cell_type": "markdown",
   "metadata": {},
   "source": [
    "The dataset has 12330 rows and 18 columns"
   ]
  },
  {
   "cell_type": "code",
   "execution_count": null,
   "metadata": {},
   "outputs": [],
   "source": []
  }
 ],
 "metadata": {
  "kernelspec": {
   "display_name": "R",
   "language": "R",
   "name": "ir"
  },
  "language_info": {
   "codemirror_mode": "r",
   "file_extension": ".r",
   "mimetype": "text/x-r-source",
   "name": "R",
   "pygments_lexer": "r",
   "version": "3.6.1"
  }
 },
 "nbformat": 4,
 "nbformat_minor": 2
}
